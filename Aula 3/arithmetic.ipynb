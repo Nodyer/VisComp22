{
 "cells": [
  {
   "cell_type": "markdown",
   "metadata": {},
   "source": [
    "Operações básicas equalização de histograma usando OpenCV e Python\n",
    "================\n",
    "---------------"
   ]
  },
  {
   "cell_type": "markdown",
   "metadata": {},
   "source": [
    "## Adição de Imagens\n",
    "\n",
    "A adição de imagens pode ser feita através da função `cv2.add()` ou também pela operações do `numpy`. Ambas as imagens devem ser do mesmo tipo e profundidade, ou segunda imagem pode ser apenas um valor escalar.\n",
    "\n",
    "> **OBS:** Há uma diferença entre a adição do OpenCV e a adição do Numpy. A adição de OpenCV é uma operação saturada enquanto que a adição de Numpy é uma operação de modulo."
   ]
  },
  {
   "cell_type": "code",
   "execution_count": 1,
   "metadata": {},
   "outputs": [
    {
     "name": "stdout",
     "output_type": "stream",
     "text": [
      "[[255]]\n",
      "[4]\n"
     ]
    }
   ],
   "source": [
    "import numpy as np\n",
    "import cv2 as cv\n",
    "\n",
    "x = np.uint8([250])\n",
    "y = np.uint8([10])\n",
    "print( cv.add(x,y) ) # 250+10 = 260 => 255\n",
    "[[255]]\n",
    "print( x+y )          # 250+10 = 260 % 256 = 4"
   ]
  },
  {
   "cell_type": "markdown",
   "metadata": {},
   "source": [
    "## Mistura de Imagens"
   ]
  },
  {
   "cell_type": "markdown",
   "metadata": {},
   "source": [
    "Aqui também é feito uma adição entre imagem, entretanto são dados pesos diferentes às imagens de modo a dar uma sensação de mistura ou transparência. As imagens são adicionadas de acordo com a equação abaixo:\n",
    "\n",
    "$$g(x) = (1-\\alpha)f_0(x)+\\alpha f_1(x)$$\n",
    "\n",
    "Onde $\\alpha$ varia entre 0 e 1.\n",
    "\n",
    "A equação acima é aplicado pelo OpenCV atráves da função `cv.addWeighted()` da seguinte forma:\n",
    "\n",
    "$$dst = \\alpha .img_1 + \\beta .img_2 + \\gamma$$\n",
    "\n",
    "$\\alpha$ e $\\beta$ são os pesos, onde $\\alpha + \\beta = 1$."
   ]
  },
  {
   "cell_type": "code",
   "execution_count": 2,
   "metadata": {},
   "outputs": [],
   "source": [
    "import cv2 as cv"
   ]
  },
  {
   "cell_type": "code",
   "execution_count": 16,
   "metadata": {},
   "outputs": [],
   "source": [
    "# Carregando as imagens\n",
    "img1 = cv.imread('onca.jpg')\n",
    "img2 = cv.imread('opencv-logo.png')\n",
    "\n",
    "# Mudar o tamanho da maior imagem para que fique com o tamanho da menor\n",
    "img1 = cv.resize(img1, (img2.shape[1],img2.shape[0]))\n",
    "\n",
    "# Somando conforme os pesos\n",
    "dst = cv.addWeighted(img1,0.7,img2,0.3,0)\n",
    "\n",
    "# Exibindo a soma em uma janela\n",
    "cv.imshow('dst',dst)\n",
    "cv.waitKey(0)\n",
    "cv.destroyAllWindows()"
   ]
  },
  {
   "cell_type": "markdown",
   "metadata": {},
   "source": [
    "## Operações Binárias"
   ]
  },
  {
   "cell_type": "markdown",
   "metadata": {},
   "source": [
    "Estão incluídas as operações AND, OR, NOT e XOR. Elas serão muito úteis para extrair qualquer parte de uma imagem, definir e trabalhar com ROI não retangulares. Para entender melhor sobre a diferença dessas operações com as demais acima, vejamos um exemplo:  \n",
    "\n",
    "Vamos colocar a logo do OpenCV em cima de uma imagem. Se adicionar duas imagens, mudará a cor. Se misturar, teremos um efeito transparente, porém queremos que seja opaco. Se fosse uma região retangular, poderíamos usar o ROI, mas a logo do OpenCV não é uma forma retangular. Por isso, podemos fazer isso com as operações binárias."
   ]
  },
  {
   "cell_type": "code",
   "execution_count": 15,
   "metadata": {},
   "outputs": [],
   "source": [
    "import cv2 as cv\n",
    "\n",
    "# Carregando as duas imagens\n",
    "img1 = cv.imread('onca.jpg')\n",
    "img2 = cv.imread('opencv-logo.png')\n",
    "\n",
    "# Mudar o tamanho da maior imagem para que fique com o tamanho da menor\n",
    "img2 = cv.resize(img2, (img1.shape[1],img1.shape[0]))\n",
    "\n",
    "# Criando a ROI\n",
    "rows,cols,channels = img2.shape\n",
    "roi = img1[0:rows, 0:cols ]\n",
    "\n",
    "# Criando a máscara para a logo\n",
    "img2gray = cv.cvtColor(img2,cv.COLOR_BGR2GRAY)\n",
    "ret, mask = cv.threshold(img2gray, 10, 255, cv.THRESH_BINARY)\n",
    "mask_inv = cv.bitwise_not(mask)\n",
    "\n",
    "# Deixando a região escura da parte que contém o ROI\n",
    "img1_bg = cv.bitwise_and(roi,roi,mask = mask_inv)\n",
    "\n",
    "# Obtendo a parte da logo\n",
    "img2_fg = cv.bitwise_and(img2,img2,mask = mask)\n",
    "\n",
    "# Colocando a logo na ROI e alterar a imagem principal\n",
    "dst = cv.add(img1_bg,img2_fg)\n",
    "img1[0:rows, 0:cols ] = dst\n",
    "cv.imshow('res',img1)\n",
    "cv.waitKey(0)\n",
    "cv.destroyAllWindows()"
   ]
  }
 ],
 "metadata": {
  "kernelspec": {
   "display_name": "Python 3.10.6 64-bit",
   "language": "python",
   "name": "python3"
  },
  "language_info": {
   "codemirror_mode": {
    "name": "ipython",
    "version": 3
   },
   "file_extension": ".py",
   "mimetype": "text/x-python",
   "name": "python",
   "nbconvert_exporter": "python",
   "pygments_lexer": "ipython3",
   "version": "3.12.0"
  },
  "orig_nbformat": 4,
  "vscode": {
   "interpreter": {
    "hash": "916dbcbb3f70747c44a77c7bcd40155683ae19c65e1c03b4aa3499c5328201f1"
   }
  }
 },
 "nbformat": 4,
 "nbformat_minor": 2
}
